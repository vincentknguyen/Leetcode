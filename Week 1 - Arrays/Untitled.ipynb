{
 "cells": [
  {
   "cell_type": "code",
   "execution_count": 14,
   "id": "a35d38cb",
   "metadata": {},
   "outputs": [
    {
     "name": "stdout",
     "output_type": "stream",
     "text": [
      "1\n",
      "28\n",
      "701\n",
      "1434\n",
      "2147483647\n"
     ]
    }
   ],
   "source": [
    "def titleToNumber(columnTitle):\n",
    "        #1 <= columnTitle.length <= 7\n",
    "        #columnTitle is in the range [\"A\", \"FXSHRXW\"]\n",
    "        #columnTitle consists only of uppercase English letters\n",
    "    letter_dictionary = {\n",
    "            'A': 1,\n",
    "            'B': 2, \n",
    "            'C': 3,\n",
    "            'D': 4,\n",
    "            'E': 5,\n",
    "            'F': 6,\n",
    "            'G': 7,\n",
    "            'H': 8,\n",
    "            'I': 9,\n",
    "            'J': 10,\n",
    "            'K': 11,\n",
    "            'L': 12,\n",
    "            'M': 13,\n",
    "            'N': 14,\n",
    "            'O': 15,\n",
    "            'P': 16,\n",
    "            'Q': 17,\n",
    "            'R': 18,\n",
    "            'S': 19,\n",
    "            'T': 20,\n",
    "            'U': 21,\n",
    "            'V': 22,\n",
    "            'W': 23,\n",
    "            'X': 24,\n",
    "            'Y': 25,\n",
    "            'Z': 26                        \n",
    "        }\n",
    "        \n",
    "    result = 0\n",
    "    for i in range(len(columnTitle)):\n",
    "        #Extract the value of the string\n",
    "        #result = result*(26*i) + letter_dictionary[columnTitle[i]]\n",
    "        result = result*26 + letter_dictionary[columnTitle[i]]\n",
    "        \n",
    "    return result\n",
    "\n",
    "print(titleToNumber(\"A\"))\n",
    "print(titleToNumber(\"AB\"))\n",
    "print(titleToNumber(\"ZY\"))\n",
    "print(titleToNumber(\"BCD\"))\n",
    "print(titleToNumber(\"FXSHRXW\"))"
   ]
  },
  {
   "cell_type": "code",
   "execution_count": null,
   "id": "7581464c",
   "metadata": {},
   "outputs": [],
   "source": []
  }
 ],
 "metadata": {
  "kernelspec": {
   "display_name": "Python 3",
   "language": "python",
   "name": "python3"
  },
  "language_info": {
   "codemirror_mode": {
    "name": "ipython",
    "version": 3
   },
   "file_extension": ".py",
   "mimetype": "text/x-python",
   "name": "python",
   "nbconvert_exporter": "python",
   "pygments_lexer": "ipython3",
   "version": "3.8.8"
  }
 },
 "nbformat": 4,
 "nbformat_minor": 5
}
