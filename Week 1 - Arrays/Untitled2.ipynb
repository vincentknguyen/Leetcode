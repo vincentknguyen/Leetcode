{
 "cells": [
  {
   "cell_type": "code",
   "execution_count": 15,
   "id": "7b0dfea7",
   "metadata": {},
   "outputs": [
    {
     "name": "stdout",
     "output_type": "stream",
     "text": [
      "6\n"
     ]
    }
   ],
   "source": [
    "nums1 = [-2,1,-3,4,-1,2,1,-5,4]\n",
    "\n",
    "#Kadane's algorithm\n",
    "def maxSubarr ay(nums):\n",
    "    max_sum = float('-inf')\n",
    "    cur_sum = 0\n",
    "    for n in nums:\n",
    "        cur_sum = max(cur_sum + n, n)\n",
    "        max_sum = max(max_sum, cur_sum)\n",
    "    return max_sum\n",
    "\n",
    "print(maxSubarray(nums1))\n",
    "\n",
    "\n"
   ]
  },
  {
   "cell_type": "code",
   "execution_count": null,
   "id": "83424c9a",
   "metadata": {},
   "outputs": [],
   "source": []
  }
 ],
 "metadata": {
  "kernelspec": {
   "display_name": "Python 3",
   "language": "python",
   "name": "python3"
  },
  "language_info": {
   "codemirror_mode": {
    "name": "ipython",
    "version": 3
   },
   "file_extension": ".py",
   "mimetype": "text/x-python",
   "name": "python",
   "nbconvert_exporter": "python",
   "pygments_lexer": "ipython3",
   "version": "3.8.8"
  }
 },
 "nbformat": 4,
 "nbformat_minor": 5
}
