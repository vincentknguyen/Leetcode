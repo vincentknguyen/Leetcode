{
 "cells": [
  {
   "cell_type": "code",
   "execution_count": 2,
   "id": "46075b85",
   "metadata": {},
   "outputs": [
    {
     "name": "stdout",
     "output_type": "stream",
     "text": [
      "4\n"
     ]
    }
   ],
   "source": [
    "nums = [-2,1,-3,4,-1,2,1,-5,4]\n",
    "def maxSubArray(arr):\n",
    "    #def max_sub_array_of_size_k(k, arr):\n",
    "    max_sum , window_sum = 0, 0\n",
    "    window_start = 0\n",
    "\n",
    "    for window_end in range(0,len(arr)):\n",
    "        window_sum = window_sum + arr[window_end]  # add the next element\n",
    "        \n",
    "        # slide the window, we don't need to slide if we've not hit the required window size of 'k'\n",
    "        max_sum = max(max_sum, window_sum)\n",
    "            \n",
    "        if max_sum >= window_sum:\n",
    "            while max_sum >= window_sum:\n",
    "                window_sum -= arr[window_start]  # subtract the element going out\n",
    "                window_start += 1  # slide the window ahead\n",
    "                max_sum = max(max_sum, window_sum)\n",
    "                \n",
    "    return max_sum\n",
    "\n",
    "\n",
    "print(maxSubArray(nums))"
   ]
  },
  {
   "cell_type": "code",
   "execution_count": null,
   "id": "e9b1766e",
   "metadata": {},
   "outputs": [],
   "source": []
  }
 ],
 "metadata": {
  "kernelspec": {
   "display_name": "Python 3",
   "language": "python",
   "name": "python3"
  },
  "language_info": {
   "codemirror_mode": {
    "name": "ipython",
    "version": 3
   },
   "file_extension": ".py",
   "mimetype": "text/x-python",
   "name": "python",
   "nbconvert_exporter": "python",
   "pygments_lexer": "ipython3",
   "version": "3.8.8"
  }
 },
 "nbformat": 4,
 "nbformat_minor": 5
}
